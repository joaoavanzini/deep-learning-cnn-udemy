{
  "nbformat": 4,
  "nbformat_minor": 0,
  "metadata": {
    "colab": {
      "name": "LinearClassification.ipynb",
      "provenance": [],
      "authorship_tag": "ABX9TyOO7Qn+/0VWeRfRSRCWrgs8",
      "include_colab_link": true
    },
    "kernelspec": {
      "name": "python3",
      "display_name": "Python 3"
    },
    "language_info": {
      "name": "python"
    }
  },
  "cells": [
    {
      "cell_type": "markdown",
      "metadata": {
        "id": "view-in-github",
        "colab_type": "text"
      },
      "source": [
        "<a href=\"https://colab.research.google.com/github/vicpb/deep-learning-cnn-udemy/blob/main/LinearClassification.ipynb\" target=\"_parent\"><img src=\"https://colab.research.google.com/assets/colab-badge.svg\" alt=\"Open In Colab\"/></a>"
      ]
    },
    {
      "cell_type": "code",
      "metadata": {
        "id": "tv--oB49TQNa",
        "colab": {
          "base_uri": "https://localhost:8080/"
        },
        "outputId": "f5afa45b-60a6-4cef-9e56-277d7de88a7f"
      },
      "source": [
        "# install tensforflow\n",
        "!pip install -q tensorflow\n",
        "import tensorflow as tf\n",
        "print(tf.__version__)"
      ],
      "execution_count": 1,
      "outputs": [
        {
          "output_type": "stream",
          "text": [
            "2.5.0\n"
          ],
          "name": "stdout"
        }
      ]
    },
    {
      "cell_type": "code",
      "metadata": {
        "id": "PtoSz3k1Pxc_"
      },
      "source": [
        "# load in the data\n",
        "from sklearn.datasets import load_breast_cancer"
      ],
      "execution_count": 2,
      "outputs": []
    },
    {
      "cell_type": "code",
      "metadata": {
        "id": "BOyXTVejQiab"
      },
      "source": [
        "# load the data\n",
        "data = load_breast_cancer()"
      ],
      "execution_count": 3,
      "outputs": []
    },
    {
      "cell_type": "code",
      "metadata": {
        "colab": {
          "base_uri": "https://localhost:8080/"
        },
        "id": "Hou5QhXPQl9m",
        "outputId": "43d55a71-7946-4385-9dc8-b7ac72dad9f2"
      },
      "source": [
        "# check the type of 'data'\n",
        "type(data)"
      ],
      "execution_count": 4,
      "outputs": [
        {
          "output_type": "execute_result",
          "data": {
            "text/plain": [
              "sklearn.utils.Bunch"
            ]
          },
          "metadata": {
            "tags": []
          },
          "execution_count": 4
        }
      ]
    },
    {
      "cell_type": "code",
      "metadata": {
        "colab": {
          "base_uri": "https://localhost:8080/"
        },
        "id": "Pj7tCvEvQo9X",
        "outputId": "b2a056fe-165b-4fd5-f0a4-4537f5a69e5e"
      },
      "source": [
        "# note: it is a Bunch object\n",
        "# this basically acts like a dictionary where you can treat the keys like atttibutes\n",
        "data.keys()"
      ],
      "execution_count": 5,
      "outputs": [
        {
          "output_type": "execute_result",
          "data": {
            "text/plain": [
              "dict_keys(['data', 'target', 'target_names', 'DESCR', 'feature_names', 'filename'])"
            ]
          },
          "metadata": {
            "tags": []
          },
          "execution_count": 5
        }
      ]
    },
    {
      "cell_type": "code",
      "metadata": {
        "colab": {
          "base_uri": "https://localhost:8080/"
        },
        "id": "CxYExFuzQx9N",
        "outputId": "550de067-9cd3-4791-c212-18ca4d7619bf"
      },
      "source": [
        "# 'data' (the attributes) means the input data\n",
        "data.data.shape\n",
        "# it has 569 samples, 30 features"
      ],
      "execution_count": 6,
      "outputs": [
        {
          "output_type": "execute_result",
          "data": {
            "text/plain": [
              "(569, 30)"
            ]
          },
          "metadata": {
            "tags": []
          },
          "execution_count": 6
        }
      ]
    },
    {
      "cell_type": "code",
      "metadata": {
        "colab": {
          "base_uri": "https://localhost:8080/"
        },
        "id": "UgVXikv7Re8R",
        "outputId": "b2c29400-2031-4666-a660-de3068142979"
      },
      "source": [
        "# 'targets'\n",
        "data.target\n",
        "# note how the targets are just 0s and 1s\n",
        "# normally, when you have K targets, they are labeled 0..K-1"
      ],
      "execution_count": 7,
      "outputs": [
        {
          "output_type": "execute_result",
          "data": {
            "text/plain": [
              "array([0, 0, 0, 0, 0, 0, 0, 0, 0, 0, 0, 0, 0, 0, 0, 0, 0, 0, 0, 1, 1, 1,\n",
              "       0, 0, 0, 0, 0, 0, 0, 0, 0, 0, 0, 0, 0, 0, 0, 1, 0, 0, 0, 0, 0, 0,\n",
              "       0, 0, 1, 0, 1, 1, 1, 1, 1, 0, 0, 1, 0, 0, 1, 1, 1, 1, 0, 1, 0, 0,\n",
              "       1, 1, 1, 1, 0, 1, 0, 0, 1, 0, 1, 0, 0, 1, 1, 1, 0, 0, 1, 0, 0, 0,\n",
              "       1, 1, 1, 0, 1, 1, 0, 0, 1, 1, 1, 0, 0, 1, 1, 1, 1, 0, 1, 1, 0, 1,\n",
              "       1, 1, 1, 1, 1, 1, 1, 0, 0, 0, 1, 0, 0, 1, 1, 1, 0, 0, 1, 0, 1, 0,\n",
              "       0, 1, 0, 0, 1, 1, 0, 1, 1, 0, 1, 1, 1, 1, 0, 1, 1, 1, 1, 1, 1, 1,\n",
              "       1, 1, 0, 1, 1, 1, 1, 0, 0, 1, 0, 1, 1, 0, 0, 1, 1, 0, 0, 1, 1, 1,\n",
              "       1, 0, 1, 1, 0, 0, 0, 1, 0, 1, 0, 1, 1, 1, 0, 1, 1, 0, 0, 1, 0, 0,\n",
              "       0, 0, 1, 0, 0, 0, 1, 0, 1, 0, 1, 1, 0, 1, 0, 0, 0, 0, 1, 1, 0, 0,\n",
              "       1, 1, 1, 0, 1, 1, 1, 1, 1, 0, 0, 1, 1, 0, 1, 1, 0, 0, 1, 0, 1, 1,\n",
              "       1, 1, 0, 1, 1, 1, 1, 1, 0, 1, 0, 0, 0, 0, 0, 0, 0, 0, 0, 0, 0, 0,\n",
              "       0, 0, 1, 1, 1, 1, 1, 1, 0, 1, 0, 1, 1, 0, 1, 1, 0, 1, 0, 0, 1, 1,\n",
              "       1, 1, 1, 1, 1, 1, 1, 1, 1, 1, 1, 0, 1, 1, 0, 1, 0, 1, 1, 1, 1, 1,\n",
              "       1, 1, 1, 1, 1, 1, 1, 1, 1, 0, 1, 1, 1, 0, 1, 0, 1, 1, 1, 1, 0, 0,\n",
              "       0, 1, 1, 1, 1, 0, 1, 0, 1, 0, 1, 1, 1, 0, 1, 1, 1, 1, 1, 1, 1, 0,\n",
              "       0, 0, 1, 1, 1, 1, 1, 1, 1, 1, 1, 1, 1, 0, 0, 1, 0, 0, 0, 1, 0, 0,\n",
              "       1, 1, 1, 1, 1, 0, 1, 1, 1, 1, 1, 0, 1, 1, 1, 0, 1, 1, 0, 0, 1, 1,\n",
              "       1, 1, 1, 1, 0, 1, 1, 1, 1, 1, 1, 1, 0, 1, 1, 1, 1, 1, 0, 1, 1, 0,\n",
              "       1, 1, 1, 1, 1, 1, 1, 1, 1, 1, 1, 1, 0, 1, 0, 0, 1, 0, 1, 1, 1, 1,\n",
              "       1, 0, 1, 1, 0, 1, 0, 1, 1, 0, 1, 0, 1, 1, 1, 1, 1, 1, 1, 1, 0, 0,\n",
              "       1, 1, 1, 1, 1, 1, 0, 1, 1, 1, 1, 1, 1, 1, 1, 1, 1, 0, 1, 1, 1, 1,\n",
              "       1, 1, 1, 0, 1, 0, 1, 1, 0, 1, 1, 1, 1, 1, 0, 0, 1, 0, 1, 0, 1, 1,\n",
              "       1, 1, 1, 0, 1, 1, 0, 1, 0, 1, 0, 0, 1, 1, 1, 0, 1, 1, 1, 1, 1, 1,\n",
              "       1, 1, 1, 1, 1, 0, 1, 0, 0, 1, 1, 1, 1, 1, 1, 1, 1, 1, 1, 1, 1, 1,\n",
              "       1, 1, 1, 1, 1, 1, 1, 1, 1, 1, 1, 1, 0, 0, 0, 0, 0, 0, 1])"
            ]
          },
          "metadata": {
            "tags": []
          },
          "execution_count": 7
        }
      ]
    },
    {
      "cell_type": "code",
      "metadata": {
        "colab": {
          "base_uri": "https://localhost:8080/"
        },
        "id": "gYRrc-wgRtva",
        "outputId": "b3b642fa-d373-4f2e-d941-5fad0d0f32c6"
      },
      "source": [
        "# their meaning is not lost\n",
        "data.target_names"
      ],
      "execution_count": 8,
      "outputs": [
        {
          "output_type": "execute_result",
          "data": {
            "text/plain": [
              "array(['malignant', 'benign'], dtype='<U9')"
            ]
          },
          "metadata": {
            "tags": []
          },
          "execution_count": 8
        }
      ]
    },
    {
      "cell_type": "code",
      "metadata": {
        "colab": {
          "base_uri": "https://localhost:8080/"
        },
        "id": "PSLPZ69QRyZl",
        "outputId": "d6d84490-05fe-4d7e-c675-933aa68dd726"
      },
      "source": [
        "# there are also 569 corresponding targets\n",
        "data.target.shape"
      ],
      "execution_count": 9,
      "outputs": [
        {
          "output_type": "execute_result",
          "data": {
            "text/plain": [
              "(569,)"
            ]
          },
          "metadata": {
            "tags": []
          },
          "execution_count": 9
        }
      ]
    },
    {
      "cell_type": "code",
      "metadata": {
        "colab": {
          "base_uri": "https://localhost:8080/"
        },
        "id": "KkrRSAObR_f6",
        "outputId": "d0cb5c22-e887-4afe-ee56-ff340e7143cc"
      },
      "source": [
        "# you can also determine the meaning of each feature\n",
        "data.feature_names"
      ],
      "execution_count": 10,
      "outputs": [
        {
          "output_type": "execute_result",
          "data": {
            "text/plain": [
              "array(['mean radius', 'mean texture', 'mean perimeter', 'mean area',\n",
              "       'mean smoothness', 'mean compactness', 'mean concavity',\n",
              "       'mean concave points', 'mean symmetry', 'mean fractal dimension',\n",
              "       'radius error', 'texture error', 'perimeter error', 'area error',\n",
              "       'smoothness error', 'compactness error', 'concavity error',\n",
              "       'concave points error', 'symmetry error',\n",
              "       'fractal dimension error', 'worst radius', 'worst texture',\n",
              "       'worst perimeter', 'worst area', 'worst smoothness',\n",
              "       'worst compactness', 'worst concavity', 'worst concave points',\n",
              "       'worst symmetry', 'worst fractal dimension'], dtype='<U23')"
            ]
          },
          "metadata": {
            "tags": []
          },
          "execution_count": 10
        }
      ]
    },
    {
      "cell_type": "code",
      "metadata": {
        "id": "zsQFpxrXSElG"
      },
      "source": [
        "# normally we would put all of our imports at the top\n",
        "# but this lets us tell a story\n",
        "from sklearn.model_selection import train_test_split\n",
        "\n",
        "# split the data into train and test sets\n",
        "# this lets us simulate how our model will perform in the future\n",
        "X_train, X_test, Y_train, Y_test = train_test_split(data.data, data.target, test_size = 0.33)\n",
        "N, D = X_train.shape"
      ],
      "execution_count": 11,
      "outputs": []
    },
    {
      "cell_type": "code",
      "metadata": {
        "id": "4rVdhpM4S3jF"
      },
      "source": [
        "# Scale the data\n",
        "# you'll learn why scalling is needed in a later course\n",
        "from sklearn.preprocessing import StandardScaler\n",
        "\n",
        "scaler = StandardScaler()\n",
        "X_train = scaler.fit_transform(X_train)\n",
        "X_test = scaler.transform(X_test)"
      ],
      "execution_count": 12,
      "outputs": []
    },
    {
      "cell_type": "code",
      "metadata": {
        "colab": {
          "base_uri": "https://localhost:8080/"
        },
        "id": "zfUT4OGmTQs8",
        "outputId": "b58b05ff-830c-4d0b-de4a-1891f0b7908d"
      },
      "source": [
        "# Now all the fun Tensorflow stuff\n",
        "# Build the model\n",
        "\n",
        "model = tf.keras.models.Sequential([\n",
        "                                    tf.keras.layers.Input(shape=(D,)),\n",
        "                                    tf.keras.layers.Dense(1, activation='sigmoid')\n",
        "])\n",
        "\n",
        "# Alternatively, you can do:\n",
        "# model = tf.keras.models.Sequential()\n",
        "# model.add(tf.keras.layers.Dense(1, input_size=(D,), activation='sigmoid'))\n",
        "\n",
        "model.compile(optimizer='adam', loss='binary_crossentropy', metrics=['accuracy'])\n",
        "\n",
        "#Train the model\n",
        "r = model.fit(X_train, Y_train, validation_data=(X_test, Y_test), epochs=100)\n",
        "\n",
        "# Evaluate the model - evaluate() return loss and accuracy\n",
        "print(\"Train score: \", model.evaluate(X_train, Y_train))\n",
        "print(\"Test score: \", model.evaluate(X_test, Y_test))"
      ],
      "execution_count": 13,
      "outputs": [
        {
          "output_type": "stream",
          "text": [
            "WARNING:tensorflow:Please add `keras.layers.InputLayer` instead of `keras.Input` to Sequential model. `keras.Input` is intended to be used by Functional model.\n",
            "Epoch 1/100\n",
            "12/12 [==============================] - 1s 17ms/step - loss: 0.3034 - accuracy: 0.8766 - val_loss: 0.3164 - val_accuracy: 0.8723\n",
            "Epoch 2/100\n",
            "12/12 [==============================] - 0s 3ms/step - loss: 0.2868 - accuracy: 0.8871 - val_loss: 0.2994 - val_accuracy: 0.8936\n",
            "Epoch 3/100\n",
            "12/12 [==============================] - 0s 5ms/step - loss: 0.2725 - accuracy: 0.8950 - val_loss: 0.2838 - val_accuracy: 0.8936\n",
            "Epoch 4/100\n",
            "12/12 [==============================] - 0s 5ms/step - loss: 0.2597 - accuracy: 0.8976 - val_loss: 0.2702 - val_accuracy: 0.9043\n",
            "Epoch 5/100\n",
            "12/12 [==============================] - 0s 3ms/step - loss: 0.2490 - accuracy: 0.9003 - val_loss: 0.2569 - val_accuracy: 0.9043\n",
            "Epoch 6/100\n",
            "12/12 [==============================] - 0s 5ms/step - loss: 0.2385 - accuracy: 0.9081 - val_loss: 0.2455 - val_accuracy: 0.9096\n",
            "Epoch 7/100\n",
            "12/12 [==============================] - 0s 4ms/step - loss: 0.2294 - accuracy: 0.9108 - val_loss: 0.2349 - val_accuracy: 0.9149\n",
            "Epoch 8/100\n",
            "12/12 [==============================] - 0s 3ms/step - loss: 0.2214 - accuracy: 0.9108 - val_loss: 0.2249 - val_accuracy: 0.9202\n",
            "Epoch 9/100\n",
            "12/12 [==============================] - 0s 5ms/step - loss: 0.2140 - accuracy: 0.9213 - val_loss: 0.2156 - val_accuracy: 0.9202\n",
            "Epoch 10/100\n",
            "12/12 [==============================] - 0s 4ms/step - loss: 0.2066 - accuracy: 0.9239 - val_loss: 0.2077 - val_accuracy: 0.9255\n",
            "Epoch 11/100\n",
            "12/12 [==============================] - 0s 5ms/step - loss: 0.2003 - accuracy: 0.9318 - val_loss: 0.2000 - val_accuracy: 0.9255\n",
            "Epoch 12/100\n",
            "12/12 [==============================] - 0s 4ms/step - loss: 0.1945 - accuracy: 0.9318 - val_loss: 0.1933 - val_accuracy: 0.9255\n",
            "Epoch 13/100\n",
            "12/12 [==============================] - 0s 3ms/step - loss: 0.1895 - accuracy: 0.9291 - val_loss: 0.1859 - val_accuracy: 0.9255\n",
            "Epoch 14/100\n",
            "12/12 [==============================] - 0s 3ms/step - loss: 0.1840 - accuracy: 0.9291 - val_loss: 0.1797 - val_accuracy: 0.9309\n",
            "Epoch 15/100\n",
            "12/12 [==============================] - 0s 4ms/step - loss: 0.1791 - accuracy: 0.9291 - val_loss: 0.1740 - val_accuracy: 0.9309\n",
            "Epoch 16/100\n",
            "12/12 [==============================] - 0s 4ms/step - loss: 0.1749 - accuracy: 0.9318 - val_loss: 0.1690 - val_accuracy: 0.9521\n",
            "Epoch 17/100\n",
            "12/12 [==============================] - 0s 4ms/step - loss: 0.1708 - accuracy: 0.9344 - val_loss: 0.1635 - val_accuracy: 0.9574\n",
            "Epoch 18/100\n",
            "12/12 [==============================] - 0s 3ms/step - loss: 0.1668 - accuracy: 0.9318 - val_loss: 0.1585 - val_accuracy: 0.9574\n",
            "Epoch 19/100\n",
            "12/12 [==============================] - 0s 4ms/step - loss: 0.1632 - accuracy: 0.9318 - val_loss: 0.1539 - val_accuracy: 0.9574\n",
            "Epoch 20/100\n",
            "12/12 [==============================] - 0s 5ms/step - loss: 0.1596 - accuracy: 0.9344 - val_loss: 0.1496 - val_accuracy: 0.9574\n",
            "Epoch 21/100\n",
            "12/12 [==============================] - 0s 4ms/step - loss: 0.1567 - accuracy: 0.9344 - val_loss: 0.1454 - val_accuracy: 0.9574\n",
            "Epoch 22/100\n",
            "12/12 [==============================] - 0s 3ms/step - loss: 0.1534 - accuracy: 0.9344 - val_loss: 0.1417 - val_accuracy: 0.9574\n",
            "Epoch 23/100\n",
            "12/12 [==============================] - 0s 3ms/step - loss: 0.1505 - accuracy: 0.9370 - val_loss: 0.1385 - val_accuracy: 0.9574\n",
            "Epoch 24/100\n",
            "12/12 [==============================] - 0s 4ms/step - loss: 0.1479 - accuracy: 0.9396 - val_loss: 0.1349 - val_accuracy: 0.9574\n",
            "Epoch 25/100\n",
            "12/12 [==============================] - 0s 4ms/step - loss: 0.1453 - accuracy: 0.9396 - val_loss: 0.1320 - val_accuracy: 0.9628\n",
            "Epoch 26/100\n",
            "12/12 [==============================] - 0s 4ms/step - loss: 0.1429 - accuracy: 0.9396 - val_loss: 0.1289 - val_accuracy: 0.9628\n",
            "Epoch 27/100\n",
            "12/12 [==============================] - 0s 5ms/step - loss: 0.1404 - accuracy: 0.9423 - val_loss: 0.1264 - val_accuracy: 0.9628\n",
            "Epoch 28/100\n",
            "12/12 [==============================] - 0s 5ms/step - loss: 0.1384 - accuracy: 0.9449 - val_loss: 0.1235 - val_accuracy: 0.9628\n",
            "Epoch 29/100\n",
            "12/12 [==============================] - 0s 4ms/step - loss: 0.1362 - accuracy: 0.9475 - val_loss: 0.1212 - val_accuracy: 0.9681\n",
            "Epoch 30/100\n",
            "12/12 [==============================] - 0s 3ms/step - loss: 0.1342 - accuracy: 0.9528 - val_loss: 0.1189 - val_accuracy: 0.9681\n",
            "Epoch 31/100\n",
            "12/12 [==============================] - 0s 3ms/step - loss: 0.1323 - accuracy: 0.9528 - val_loss: 0.1168 - val_accuracy: 0.9681\n",
            "Epoch 32/100\n",
            "12/12 [==============================] - 0s 5ms/step - loss: 0.1306 - accuracy: 0.9554 - val_loss: 0.1147 - val_accuracy: 0.9681\n",
            "Epoch 33/100\n",
            "12/12 [==============================] - 0s 3ms/step - loss: 0.1288 - accuracy: 0.9580 - val_loss: 0.1128 - val_accuracy: 0.9734\n",
            "Epoch 34/100\n",
            "12/12 [==============================] - 0s 3ms/step - loss: 0.1272 - accuracy: 0.9580 - val_loss: 0.1109 - val_accuracy: 0.9734\n",
            "Epoch 35/100\n",
            "12/12 [==============================] - 0s 3ms/step - loss: 0.1256 - accuracy: 0.9580 - val_loss: 0.1091 - val_accuracy: 0.9734\n",
            "Epoch 36/100\n",
            "12/12 [==============================] - 0s 4ms/step - loss: 0.1242 - accuracy: 0.9580 - val_loss: 0.1075 - val_accuracy: 0.9734\n",
            "Epoch 37/100\n",
            "12/12 [==============================] - 0s 5ms/step - loss: 0.1226 - accuracy: 0.9580 - val_loss: 0.1058 - val_accuracy: 0.9734\n",
            "Epoch 38/100\n",
            "12/12 [==============================] - 0s 5ms/step - loss: 0.1212 - accuracy: 0.9580 - val_loss: 0.1043 - val_accuracy: 0.9787\n",
            "Epoch 39/100\n",
            "12/12 [==============================] - 0s 6ms/step - loss: 0.1200 - accuracy: 0.9580 - val_loss: 0.1030 - val_accuracy: 0.9840\n",
            "Epoch 40/100\n",
            "12/12 [==============================] - 0s 4ms/step - loss: 0.1186 - accuracy: 0.9580 - val_loss: 0.1016 - val_accuracy: 0.9840\n",
            "Epoch 41/100\n",
            "12/12 [==============================] - 0s 3ms/step - loss: 0.1174 - accuracy: 0.9580 - val_loss: 0.1003 - val_accuracy: 0.9894\n",
            "Epoch 42/100\n",
            "12/12 [==============================] - 0s 4ms/step - loss: 0.1162 - accuracy: 0.9580 - val_loss: 0.0990 - val_accuracy: 0.9894\n",
            "Epoch 43/100\n",
            "12/12 [==============================] - 0s 5ms/step - loss: 0.1152 - accuracy: 0.9580 - val_loss: 0.0977 - val_accuracy: 0.9894\n",
            "Epoch 44/100\n",
            "12/12 [==============================] - 0s 3ms/step - loss: 0.1140 - accuracy: 0.9606 - val_loss: 0.0967 - val_accuracy: 0.9894\n",
            "Epoch 45/100\n",
            "12/12 [==============================] - 0s 3ms/step - loss: 0.1130 - accuracy: 0.9606 - val_loss: 0.0955 - val_accuracy: 0.9894\n",
            "Epoch 46/100\n",
            "12/12 [==============================] - 0s 3ms/step - loss: 0.1119 - accuracy: 0.9606 - val_loss: 0.0945 - val_accuracy: 0.9894\n",
            "Epoch 47/100\n",
            "12/12 [==============================] - 0s 5ms/step - loss: 0.1110 - accuracy: 0.9606 - val_loss: 0.0936 - val_accuracy: 0.9894\n",
            "Epoch 48/100\n",
            "12/12 [==============================] - 0s 5ms/step - loss: 0.1100 - accuracy: 0.9659 - val_loss: 0.0925 - val_accuracy: 0.9894\n",
            "Epoch 49/100\n",
            "12/12 [==============================] - 0s 3ms/step - loss: 0.1090 - accuracy: 0.9633 - val_loss: 0.0916 - val_accuracy: 0.9894\n",
            "Epoch 50/100\n",
            "12/12 [==============================] - 0s 4ms/step - loss: 0.1082 - accuracy: 0.9633 - val_loss: 0.0907 - val_accuracy: 0.9894\n",
            "Epoch 51/100\n",
            "12/12 [==============================] - 0s 5ms/step - loss: 0.1074 - accuracy: 0.9633 - val_loss: 0.0896 - val_accuracy: 0.9894\n",
            "Epoch 52/100\n",
            "12/12 [==============================] - 0s 5ms/step - loss: 0.1064 - accuracy: 0.9633 - val_loss: 0.0889 - val_accuracy: 0.9894\n",
            "Epoch 53/100\n",
            "12/12 [==============================] - 0s 5ms/step - loss: 0.1056 - accuracy: 0.9633 - val_loss: 0.0881 - val_accuracy: 0.9894\n",
            "Epoch 54/100\n",
            "12/12 [==============================] - 0s 5ms/step - loss: 0.1048 - accuracy: 0.9659 - val_loss: 0.0874 - val_accuracy: 0.9894\n",
            "Epoch 55/100\n",
            "12/12 [==============================] - 0s 5ms/step - loss: 0.1041 - accuracy: 0.9685 - val_loss: 0.0866 - val_accuracy: 0.9894\n",
            "Epoch 56/100\n",
            "12/12 [==============================] - 0s 3ms/step - loss: 0.1033 - accuracy: 0.9685 - val_loss: 0.0859 - val_accuracy: 0.9894\n",
            "Epoch 57/100\n",
            "12/12 [==============================] - 0s 3ms/step - loss: 0.1026 - accuracy: 0.9685 - val_loss: 0.0852 - val_accuracy: 0.9894\n",
            "Epoch 58/100\n",
            "12/12 [==============================] - 0s 3ms/step - loss: 0.1020 - accuracy: 0.9685 - val_loss: 0.0844 - val_accuracy: 0.9894\n",
            "Epoch 59/100\n",
            "12/12 [==============================] - 0s 4ms/step - loss: 0.1013 - accuracy: 0.9711 - val_loss: 0.0838 - val_accuracy: 0.9894\n",
            "Epoch 60/100\n",
            "12/12 [==============================] - 0s 3ms/step - loss: 0.1005 - accuracy: 0.9738 - val_loss: 0.0832 - val_accuracy: 0.9894\n",
            "Epoch 61/100\n",
            "12/12 [==============================] - 0s 3ms/step - loss: 0.1000 - accuracy: 0.9738 - val_loss: 0.0824 - val_accuracy: 0.9894\n",
            "Epoch 62/100\n",
            "12/12 [==============================] - 0s 3ms/step - loss: 0.0993 - accuracy: 0.9738 - val_loss: 0.0819 - val_accuracy: 0.9894\n",
            "Epoch 63/100\n",
            "12/12 [==============================] - 0s 3ms/step - loss: 0.0987 - accuracy: 0.9738 - val_loss: 0.0813 - val_accuracy: 0.9894\n",
            "Epoch 64/100\n",
            "12/12 [==============================] - 0s 4ms/step - loss: 0.0981 - accuracy: 0.9738 - val_loss: 0.0808 - val_accuracy: 0.9894\n",
            "Epoch 65/100\n",
            "12/12 [==============================] - 0s 4ms/step - loss: 0.0975 - accuracy: 0.9738 - val_loss: 0.0803 - val_accuracy: 0.9894\n",
            "Epoch 66/100\n",
            "12/12 [==============================] - 0s 4ms/step - loss: 0.0970 - accuracy: 0.9738 - val_loss: 0.0797 - val_accuracy: 0.9894\n",
            "Epoch 67/100\n",
            "12/12 [==============================] - 0s 5ms/step - loss: 0.0964 - accuracy: 0.9764 - val_loss: 0.0791 - val_accuracy: 0.9894\n",
            "Epoch 68/100\n",
            "12/12 [==============================] - 0s 4ms/step - loss: 0.0959 - accuracy: 0.9738 - val_loss: 0.0786 - val_accuracy: 0.9894\n",
            "Epoch 69/100\n",
            "12/12 [==============================] - 0s 4ms/step - loss: 0.0953 - accuracy: 0.9764 - val_loss: 0.0782 - val_accuracy: 0.9894\n",
            "Epoch 70/100\n",
            "12/12 [==============================] - 0s 4ms/step - loss: 0.0948 - accuracy: 0.9764 - val_loss: 0.0777 - val_accuracy: 0.9894\n",
            "Epoch 71/100\n",
            "12/12 [==============================] - 0s 3ms/step - loss: 0.0944 - accuracy: 0.9764 - val_loss: 0.0772 - val_accuracy: 0.9894\n",
            "Epoch 72/100\n",
            "12/12 [==============================] - 0s 5ms/step - loss: 0.0938 - accuracy: 0.9764 - val_loss: 0.0768 - val_accuracy: 0.9894\n",
            "Epoch 73/100\n",
            "12/12 [==============================] - 0s 5ms/step - loss: 0.0934 - accuracy: 0.9764 - val_loss: 0.0762 - val_accuracy: 0.9894\n",
            "Epoch 74/100\n",
            "12/12 [==============================] - 0s 3ms/step - loss: 0.0928 - accuracy: 0.9764 - val_loss: 0.0758 - val_accuracy: 0.9894\n",
            "Epoch 75/100\n",
            "12/12 [==============================] - 0s 4ms/step - loss: 0.0924 - accuracy: 0.9764 - val_loss: 0.0755 - val_accuracy: 0.9894\n",
            "Epoch 76/100\n",
            "12/12 [==============================] - 0s 5ms/step - loss: 0.0920 - accuracy: 0.9764 - val_loss: 0.0750 - val_accuracy: 0.9894\n",
            "Epoch 77/100\n",
            "12/12 [==============================] - 0s 5ms/step - loss: 0.0915 - accuracy: 0.9764 - val_loss: 0.0746 - val_accuracy: 0.9894\n",
            "Epoch 78/100\n",
            "12/12 [==============================] - 0s 5ms/step - loss: 0.0910 - accuracy: 0.9764 - val_loss: 0.0742 - val_accuracy: 0.9894\n",
            "Epoch 79/100\n",
            "12/12 [==============================] - 0s 4ms/step - loss: 0.0906 - accuracy: 0.9764 - val_loss: 0.0738 - val_accuracy: 0.9894\n",
            "Epoch 80/100\n",
            "12/12 [==============================] - 0s 3ms/step - loss: 0.0902 - accuracy: 0.9764 - val_loss: 0.0735 - val_accuracy: 0.9894\n",
            "Epoch 81/100\n",
            "12/12 [==============================] - 0s 3ms/step - loss: 0.0897 - accuracy: 0.9764 - val_loss: 0.0732 - val_accuracy: 0.9894\n",
            "Epoch 82/100\n",
            "12/12 [==============================] - 0s 3ms/step - loss: 0.0894 - accuracy: 0.9764 - val_loss: 0.0730 - val_accuracy: 0.9894\n",
            "Epoch 83/100\n",
            "12/12 [==============================] - 0s 4ms/step - loss: 0.0890 - accuracy: 0.9764 - val_loss: 0.0727 - val_accuracy: 0.9894\n",
            "Epoch 84/100\n",
            "12/12 [==============================] - 0s 4ms/step - loss: 0.0886 - accuracy: 0.9764 - val_loss: 0.0723 - val_accuracy: 0.9894\n",
            "Epoch 85/100\n",
            "12/12 [==============================] - 0s 3ms/step - loss: 0.0882 - accuracy: 0.9764 - val_loss: 0.0720 - val_accuracy: 0.9894\n",
            "Epoch 86/100\n",
            "12/12 [==============================] - 0s 4ms/step - loss: 0.0879 - accuracy: 0.9764 - val_loss: 0.0716 - val_accuracy: 0.9894\n",
            "Epoch 87/100\n",
            "12/12 [==============================] - 0s 4ms/step - loss: 0.0875 - accuracy: 0.9764 - val_loss: 0.0713 - val_accuracy: 0.9894\n",
            "Epoch 88/100\n",
            "12/12 [==============================] - 0s 4ms/step - loss: 0.0871 - accuracy: 0.9764 - val_loss: 0.0711 - val_accuracy: 0.9894\n",
            "Epoch 89/100\n",
            "12/12 [==============================] - 0s 5ms/step - loss: 0.0868 - accuracy: 0.9764 - val_loss: 0.0707 - val_accuracy: 0.9894\n",
            "Epoch 90/100\n",
            "12/12 [==============================] - 0s 5ms/step - loss: 0.0865 - accuracy: 0.9764 - val_loss: 0.0705 - val_accuracy: 0.9840\n",
            "Epoch 91/100\n",
            "12/12 [==============================] - 0s 3ms/step - loss: 0.0862 - accuracy: 0.9764 - val_loss: 0.0703 - val_accuracy: 0.9840\n",
            "Epoch 92/100\n",
            "12/12 [==============================] - 0s 5ms/step - loss: 0.0858 - accuracy: 0.9764 - val_loss: 0.0700 - val_accuracy: 0.9840\n",
            "Epoch 93/100\n",
            "12/12 [==============================] - 0s 4ms/step - loss: 0.0855 - accuracy: 0.9764 - val_loss: 0.0696 - val_accuracy: 0.9787\n",
            "Epoch 94/100\n",
            "12/12 [==============================] - 0s 4ms/step - loss: 0.0852 - accuracy: 0.9764 - val_loss: 0.0694 - val_accuracy: 0.9787\n",
            "Epoch 95/100\n",
            "12/12 [==============================] - 0s 6ms/step - loss: 0.0848 - accuracy: 0.9790 - val_loss: 0.0691 - val_accuracy: 0.9787\n",
            "Epoch 96/100\n",
            "12/12 [==============================] - 0s 4ms/step - loss: 0.0845 - accuracy: 0.9790 - val_loss: 0.0689 - val_accuracy: 0.9787\n",
            "Epoch 97/100\n",
            "12/12 [==============================] - 0s 4ms/step - loss: 0.0843 - accuracy: 0.9790 - val_loss: 0.0687 - val_accuracy: 0.9787\n",
            "Epoch 98/100\n",
            "12/12 [==============================] - 0s 4ms/step - loss: 0.0839 - accuracy: 0.9790 - val_loss: 0.0685 - val_accuracy: 0.9787\n",
            "Epoch 99/100\n",
            "12/12 [==============================] - 0s 4ms/step - loss: 0.0837 - accuracy: 0.9790 - val_loss: 0.0682 - val_accuracy: 0.9787\n",
            "Epoch 100/100\n",
            "12/12 [==============================] - 0s 5ms/step - loss: 0.0834 - accuracy: 0.9790 - val_loss: 0.0680 - val_accuracy: 0.9787\n",
            "12/12 [==============================] - 0s 2ms/step - loss: 0.0831 - accuracy: 0.9790\n",
            "Train score:  [0.0831342414021492, 0.9790025949478149]\n",
            "6/6 [==============================] - 0s 2ms/step - loss: 0.0680 - accuracy: 0.9787\n",
            "Test score:  [0.06803148984909058, 0.978723406791687]\n"
          ],
          "name": "stdout"
        }
      ]
    },
    {
      "cell_type": "code",
      "metadata": {
        "colab": {
          "base_uri": "https://localhost:8080/",
          "height": 282
        },
        "id": "iiVFOmrTUt5s",
        "outputId": "b29d98ed-0ced-4cd7-c09d-bb71755104e3"
      },
      "source": [
        "# Plot what's returned by model.fit()\n",
        "import matplotlib.pyplot as plt\n",
        "plt.plot(r.history['loss'], label='loss')\n",
        "plt.plot(r.history['val_loss'], label='val_loss')\n",
        "plt.legend()"
      ],
      "execution_count": 14,
      "outputs": [
        {
          "output_type": "execute_result",
          "data": {
            "text/plain": [
              "<matplotlib.legend.Legend at 0x7f46ae573450>"
            ]
          },
          "metadata": {
            "tags": []
          },
          "execution_count": 14
        },
        {
          "output_type": "display_data",
          "data": {
            "image/png": "[encoded data removed]",
            "text/plain": [
              "<Figure size 432x288 with 1 Axes>"
            ]
          },
          "metadata": {
            "tags": [],
            "needs_background": "light"
          }
        }
      ]
    },
    {
      "cell_type": "code",
      "metadata": {
        "colab": {
          "base_uri": "https://localhost:8080/",
          "height": 282
        },
        "id": "xNpV2evJVXoa",
        "outputId": "a2f546a9-bee1-40ff-d266-26472658e017"
      },
      "source": [
        "# Plot the accuracy too\n",
        "plt.plot(r.history['accuracy'], label='acc')\n",
        "plt.plot(r.history['val_accuracy'], label='val_acc')\n",
        "plt.legend()"
      ],
      "execution_count": 15,
      "outputs": [
        {
          "output_type": "execute_result",
          "data": {
            "text/plain": [
              "<matplotlib.legend.Legend at 0x7f46ad5ac390>"
            ]
          },
          "metadata": {
            "tags": []
          },
          "execution_count": 15
        },
        {
          "output_type": "display_data",
          "data": {
            "image/png": "[encoded data removed]",
            "text/plain": [
              "<Figure size 432x288 with 1 Axes>"
            ]
          },
          "metadata": {
            "tags": [],
            "needs_background": "light"
          }
        }
      ]
    },
    {
      "cell_type": "markdown",
      "metadata": {
        "id": "294zvCS6Ib8_"
      },
      "source": [
        "# Making Predictions:"
      ]
    },
    {
      "cell_type": "code",
      "metadata": {
        "id": "NQSPB2BKVrLI",
        "colab": {
          "base_uri": "https://localhost:8080/"
        },
        "outputId": "0859b2d5-df6d-457d-ef0b-03962f3c267f"
      },
      "source": [
        "# Make predictions\n",
        "P = model.predict(X_test)\n",
        "print(P) # they are outputs of the sigmoid, interpreted as probabilities p(y = 1 | x)"
      ],
      "execution_count": 16,
      "outputs": [
        {
          "output_type": "stream",
          "text": [
            "[[9.99094486e-01]\n",
            " [9.96768832e-01]\n",
            " [9.95690942e-01]\n",
            " [4.89255905e-01]\n",
            " [9.70208526e-01]\n",
            " [9.95802879e-03]\n",
            " [9.98179555e-01]\n",
            " [9.85003591e-01]\n",
            " [9.50069547e-01]\n",
            " [6.95724785e-01]\n",
            " [9.97139096e-01]\n",
            " [3.83622348e-02]\n",
            " [4.16847944e-01]\n",
            " [8.14108849e-01]\n",
            " [9.94785070e-01]\n",
            " [9.99608994e-01]\n",
            " [1.93498433e-02]\n",
            " [9.83268201e-01]\n",
            " [3.70804667e-02]\n",
            " [9.94616866e-01]\n",
            " [9.98608947e-01]\n",
            " [9.67929840e-01]\n",
            " [9.97292519e-01]\n",
            " [3.64000469e-01]\n",
            " [9.00983810e-04]\n",
            " [9.65814948e-01]\n",
            " [1.69176608e-01]\n",
            " [9.48421359e-01]\n",
            " [7.39013672e-07]\n",
            " [9.99815822e-01]\n",
            " [9.31394994e-01]\n",
            " [9.76987600e-01]\n",
            " [9.99312639e-01]\n",
            " [9.66791391e-01]\n",
            " [9.99723732e-01]\n",
            " [3.52743268e-06]\n",
            " [9.95446861e-01]\n",
            " [7.01988512e-09]\n",
            " [9.63980973e-01]\n",
            " [9.99350905e-01]\n",
            " [8.81163180e-01]\n",
            " [7.38489985e-01]\n",
            " [1.24326348e-03]\n",
            " [9.83271658e-01]\n",
            " [9.27591324e-03]\n",
            " [5.64217228e-10]\n",
            " [2.09668279e-03]\n",
            " [1.66207552e-04]\n",
            " [9.80533242e-01]\n",
            " [9.84264791e-01]\n",
            " [2.71088839e-01]\n",
            " [9.36652184e-01]\n",
            " [1.12879276e-03]\n",
            " [9.94104266e-01]\n",
            " [7.27576017e-03]\n",
            " [2.38963544e-01]\n",
            " [5.96351922e-02]\n",
            " [9.94929492e-01]\n",
            " [9.76192832e-01]\n",
            " [8.96134973e-03]\n",
            " [8.40790629e-01]\n",
            " [9.99741197e-01]\n",
            " [9.92519498e-01]\n",
            " [9.96887565e-01]\n",
            " [9.79690850e-01]\n",
            " [2.81969428e-01]\n",
            " [1.98692083e-04]\n",
            " [9.98763800e-01]\n",
            " [9.73875403e-01]\n",
            " [9.97935295e-01]\n",
            " [9.99739110e-01]\n",
            " [9.99151587e-01]\n",
            " [5.81199089e-09]\n",
            " [9.96575534e-01]\n",
            " [9.94400024e-01]\n",
            " [9.78228927e-01]\n",
            " [9.99244690e-01]\n",
            " [9.95460451e-01]\n",
            " [2.03869343e-02]\n",
            " [9.98522282e-01]\n",
            " [9.49010849e-01]\n",
            " [9.91943479e-01]\n",
            " [2.31707276e-09]\n",
            " [1.43203139e-03]\n",
            " [9.99507368e-01]\n",
            " [4.11336124e-02]\n",
            " [5.74518144e-02]\n",
            " [9.88516331e-01]\n",
            " [8.89512741e-10]\n",
            " [6.22722507e-03]\n",
            " [9.95283782e-01]\n",
            " [9.70691442e-04]\n",
            " [6.05762005e-04]\n",
            " [5.16459886e-06]\n",
            " [4.76092100e-04]\n",
            " [5.51038980e-03]\n",
            " [6.76517963e-01]\n",
            " [9.97671425e-01]\n",
            " [8.05595279e-01]\n",
            " [1.52586401e-02]\n",
            " [6.64676130e-01]\n",
            " [4.76890805e-10]\n",
            " [9.66449261e-01]\n",
            " [9.56546307e-01]\n",
            " [9.95930433e-01]\n",
            " [6.93214238e-02]\n",
            " [9.05380309e-01]\n",
            " [9.96134639e-01]\n",
            " [9.99301255e-01]\n",
            " [9.85270023e-01]\n",
            " [2.19105780e-02]\n",
            " [9.99741971e-01]\n",
            " [7.62308359e-01]\n",
            " [9.92480636e-01]\n",
            " [1.00350380e-03]\n",
            " [8.47289681e-01]\n",
            " [9.54982400e-01]\n",
            " [4.96301353e-01]\n",
            " [1.08080775e-01]\n",
            " [9.19499874e-01]\n",
            " [3.40193510e-04]\n",
            " [9.97725368e-01]\n",
            " [7.90038347e-01]\n",
            " [9.76945817e-01]\n",
            " [9.99572515e-01]\n",
            " [9.98496413e-01]\n",
            " [6.97548091e-02]\n",
            " [3.14570665e-02]\n",
            " [9.87227499e-01]\n",
            " [2.79445350e-02]\n",
            " [9.74833131e-01]\n",
            " [9.98928308e-01]\n",
            " [9.86006439e-01]\n",
            " [2.83569098e-04]\n",
            " [9.85294521e-01]\n",
            " [3.14014852e-02]\n",
            " [7.92884886e-01]\n",
            " [9.94091094e-01]\n",
            " [7.86533237e-01]\n",
            " [9.71841097e-01]\n",
            " [2.20226645e-02]\n",
            " [9.97289896e-01]\n",
            " [7.96192884e-03]\n",
            " [9.78050351e-01]\n",
            " [3.28170061e-02]\n",
            " [9.99219000e-01]\n",
            " [9.44900155e-01]\n",
            " [9.92242575e-01]\n",
            " [9.99524355e-01]\n",
            " [9.31803882e-01]\n",
            " [9.97722507e-01]\n",
            " [4.65393066e-04]\n",
            " [9.99659240e-01]\n",
            " [9.21619356e-01]\n",
            " [1.81410257e-07]\n",
            " [9.99721646e-01]\n",
            " [4.60505486e-04]\n",
            " [8.66502464e-01]\n",
            " [9.63769794e-01]\n",
            " [1.28692001e-01]\n",
            " [7.28832364e-01]\n",
            " [1.45494938e-04]\n",
            " [9.41422224e-01]\n",
            " [9.59505200e-01]\n",
            " [9.98601317e-01]\n",
            " [9.99955773e-01]\n",
            " [9.04273510e-01]\n",
            " [5.37135839e-01]\n",
            " [9.94531035e-01]\n",
            " [5.57938218e-03]\n",
            " [8.28586817e-01]\n",
            " [2.59743365e-06]\n",
            " [4.12378831e-05]\n",
            " [1.83579326e-03]\n",
            " [9.98993039e-01]\n",
            " [9.96878147e-01]\n",
            " [9.98622358e-01]\n",
            " [3.47393083e-08]\n",
            " [9.98988986e-01]\n",
            " [2.23848462e-01]\n",
            " [9.96498704e-01]\n",
            " [9.88951445e-01]\n",
            " [9.92957711e-01]\n",
            " [3.96475375e-01]\n",
            " [9.93597269e-01]\n",
            " [9.95832920e-01]\n",
            " [9.99950707e-01]\n",
            " [9.92652535e-01]]\n"
          ],
          "name": "stdout"
        }
      ]
    },
    {
      "cell_type": "code",
      "metadata": {
        "colab": {
          "base_uri": "https://localhost:8080/"
        },
        "id": "eK1wBLywHuSu",
        "outputId": "aa7eab0a-bc89-4faa-94ff-a7ec3b4e0971"
      },
      "source": [
        "# Round toe get the actual predictions\n",
        "# Note: has no flattened since the targets are size(N,) while the predictions are size(N,1)\n",
        "import numpy as np\n",
        "P = np.round(P).flatten()\n",
        "print(P)"
      ],
      "execution_count": 17,
      "outputs": [
        {
          "output_type": "stream",
          "text": [
            "[1. 1. 1. 0. 1. 0. 1. 1. 1. 1. 1. 0. 0. 1. 1. 1. 0. 1. 0. 1. 1. 1. 1. 0.\n",
            " 0. 1. 0. 1. 0. 1. 1. 1. 1. 1. 1. 0. 1. 0. 1. 1. 1. 1. 0. 1. 0. 0. 0. 0.\n",
            " 1. 1. 0. 1. 0. 1. 0. 0. 0. 1. 1. 0. 1. 1. 1. 1. 1. 0. 0. 1. 1. 1. 1. 1.\n",
            " 0. 1. 1. 1. 1. 1. 0. 1. 1. 1. 0. 0. 1. 0. 0. 1. 0. 0. 1. 0. 0. 0. 0. 0.\n",
            " 1. 1. 1. 0. 1. 0. 1. 1. 1. 0. 1. 1. 1. 1. 0. 1. 1. 1. 0. 1. 1. 0. 0. 1.\n",
            " 0. 1. 1. 1. 1. 1. 0. 0. 1. 0. 1. 1. 1. 0. 1. 0. 1. 1. 1. 1. 0. 1. 0. 1.\n",
            " 0. 1. 1. 1. 1. 1. 1. 0. 1. 1. 0. 1. 0. 1. 1. 0. 1. 0. 1. 1. 1. 1. 1. 1.\n",
            " 1. 0. 1. 0. 0. 0. 1. 1. 1. 0. 1. 0. 1. 1. 1. 0. 1. 1. 1. 1.]\n"
          ],
          "name": "stdout"
        }
      ]
    },
    {
      "cell_type": "code",
      "metadata": {
        "colab": {
          "base_uri": "https://localhost:8080/"
        },
        "id": "Jo9GBacOH9fc",
        "outputId": "d8b168f2-8ebe-42bd-9ef1-2d11dd6a7a2a"
      },
      "source": [
        "# Calculate the accuracy, compare it to evaluate() output\n",
        "print(\"Manually calculated accuracy: \", np.mean(P == Y_test))\n",
        "print(\"Evaluate output: \", model.evaluate(X_test, Y_test))"
      ],
      "execution_count": 18,
      "outputs": [
        {
          "output_type": "stream",
          "text": [
            "Manually calculated accuracy:  0.9787234042553191\n",
            "6/6 [==============================] - 0s 2ms/step - loss: 0.0680 - accuracy: 0.9787\n",
            "Evaluate output:  [0.06803148984909058, 0.978723406791687]\n"
          ],
          "name": "stdout"
        }
      ]
    },
    {
      "cell_type": "markdown",
      "metadata": {
        "id": "phwBv6U6KMwJ"
      },
      "source": [
        "# Saving and Loading a Model"
      ]
    },
    {
      "cell_type": "code",
      "metadata": {
        "id": "xUu6nHubISFr"
      },
      "source": [
        "# Let's now save our model to a file\n",
        "model.save('linearclassifier.h5')"
      ],
      "execution_count": 19,
      "outputs": []
    },
    {
      "cell_type": "code",
      "metadata": {
        "colab": {
          "base_uri": "https://localhost:8080/"
        },
        "id": "rRMZIzpZKWAY",
        "outputId": "49fee75a-c544-4a93-e5bc-e5f4345c57f2"
      },
      "source": [
        "# check that the model file exists\n",
        "!ls -lh"
      ],
      "execution_count": 20,
      "outputs": [
        {
          "output_type": "stream",
          "text": [
            "total 24K\n",
            "-rw-r--r-- 1 root root  19K Jul  9 16:45 linearclassifier.h5\n",
            "drwxr-xr-x 1 root root 4.0K Jul  1 13:42 sample_data\n"
          ],
          "name": "stdout"
        }
      ]
    },
    {
      "cell_type": "code",
      "metadata": {
        "colab": {
          "base_uri": "https://localhost:8080/"
        },
        "id": "h19zGbGaKZpE",
        "outputId": "b932adfc-4e83-4853-e5f0-41168948951f"
      },
      "source": [
        "# Let's load the model and confirm it still works\n",
        "# Note: there is a bug in Keras where load/save only works if you DON'T use the Input() layer explicitly\n",
        "# So, make sure you define the model with ONLY Dense(1, input_shape(D,))\n",
        "# At least, until the bug is fixed\n",
        "# https://github.com/keras-team/keras/issues/10417\n",
        "model = tf.keras.models.load_model('linearclassifier.h5')\n",
        "print(model.layers)\n",
        "model.evaluate(X_test, Y_test)"
      ],
      "execution_count": 21,
      "outputs": [
        {
          "output_type": "stream",
          "text": [
            "[<tensorflow.python.keras.layers.core.Dense object at 0x7f46ad668650>]\n",
            "6/6 [==============================] - 0s 2ms/step - loss: 0.0680 - accuracy: 0.9787\n"
          ],
          "name": "stdout"
        },
        {
          "output_type": "execute_result",
          "data": {
            "text/plain": [
              "[0.06803148984909058, 0.978723406791687]"
            ]
          },
          "metadata": {
            "tags": []
          },
          "execution_count": 21
        }
      ]
    },
    {
      "cell_type": "code",
      "metadata": {
        "id": "rsX9IA4WK7-f"
      },
      "source": [
        ""
      ],
      "execution_count": null,
      "outputs": []
    }
  ]
}