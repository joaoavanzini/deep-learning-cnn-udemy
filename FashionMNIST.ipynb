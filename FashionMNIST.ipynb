{
  "nbformat": 4,
  "nbformat_minor": 0,
  "metadata": {
    "colab": {
      "name": "FashionMNIST.ipynb",
      "provenance": [],
      "authorship_tag": "ABX9TyP/3Q+8J/kYvmi3pJZ4f3Kh",
      "include_colab_link": true
    },
    "kernelspec": {
      "name": "python3",
      "display_name": "Python 3"
    },
    "language_info": {
      "name": "python"
    },
    "accelerator": "GPU"
  },
  "cells": [
    {
      "cell_type": "markdown",
      "metadata": {
        "id": "view-in-github",
        "colab_type": "text"
      },
      "source": [
        "<a href=\"https://colab.research.google.com/github/vicpb/deep-learning-cnn-udemy/blob/main/FashionMNIST.ipynb\" target=\"_parent\"><img src=\"https://colab.research.google.com/assets/colab-badge.svg\" alt=\"Open In Colab\"/></a>"
      ]
    },
    {
      "cell_type": "code",
      "metadata": {
        "colab": {
          "base_uri": "https://localhost:8080/"
        },
        "id": "QDaOvWKmgU2f",
        "outputId": "edae3966-016a-4044-b4d1-f452b0adc6e5"
      },
      "source": [
        "# Install TensorFlow\n",
        "!pip install -q tensorflow-gpu\n",
        "import tensorflow as tf\n",
        "print(tf.__version__)"
      ],
      "execution_count": 1,
      "outputs": [
        {
          "output_type": "stream",
          "text": [
            "\u001b[K     |████████████████████████████████| 454.3MB 37kB/s \n",
            "\u001b[?25h2.5.0\n"
          ],
          "name": "stdout"
        }
      ]
    },
    {
      "cell_type": "code",
      "metadata": {
        "id": "lMm06BNxgfzA"
      },
      "source": [
        "# additional imports\n",
        "\n",
        "import numpy as np\n",
        "import matplotlib.pyplot as plt\n",
        "from tensorflow.keras.layers import Input, Conv2D, Dense, Flatten, Dropout\n",
        "from tensorflow.keras.models import Model"
      ],
      "execution_count": 2,
      "outputs": []
    },
    {
      "cell_type": "code",
      "metadata": {
        "colab": {
          "base_uri": "https://localhost:8080/"
        },
        "id": "SfVnaEgwgvCB",
        "outputId": "36c1028a-6f57-4b7f-8cf4-dae0a942e537"
      },
      "source": [
        "# Load in the data\n",
        "\n",
        "fashion_mnist = tf.keras.datasets.fashion_mnist\n",
        "(x_train, y_train), (x_test, y_test) = fashion_mnist.load_data()\n",
        "x_train, x_test = x_train / 255.0, x_test / 255.0\n",
        "print(\"X train.shape: \", x_train.shape)"
      ],
      "execution_count": 3,
      "outputs": [
        {
          "output_type": "stream",
          "text": [
            "Downloading data from https://storage.googleapis.com/tensorflow/tf-keras-datasets/train-labels-idx1-ubyte.gz\n",
            "32768/29515 [=================================] - 0s 0us/step\n",
            "Downloading data from https://storage.googleapis.com/tensorflow/tf-keras-datasets/train-images-idx3-ubyte.gz\n",
            "26427392/26421880 [==============================] - 0s 0us/step\n",
            "Downloading data from https://storage.googleapis.com/tensorflow/tf-keras-datasets/t10k-labels-idx1-ubyte.gz\n",
            "8192/5148 [===============================================] - 0s 0us/step\n",
            "Downloading data from https://storage.googleapis.com/tensorflow/tf-keras-datasets/t10k-images-idx3-ubyte.gz\n",
            "4423680/4422102 [==============================] - 0s 0us/step\n",
            "X train.shape:  (60000, 28, 28)\n"
          ],
          "name": "stdout"
        }
      ]
    },
    {
      "cell_type": "code",
      "metadata": {
        "colab": {
          "base_uri": "https://localhost:8080/"
        },
        "id": "6hazUaeDhPDo",
        "outputId": "b408a7ae-d256-4505-94e9-c7c703090b52"
      },
      "source": [
        "# the data is only 2D!\n",
        "# convolution expects height x width x color\n",
        "x_train = np.expand_dims(x_train, -1)\n",
        "x_test = np.expand_dims(x_test, -1)\n",
        "print(x_train.shape)"
      ],
      "execution_count": 4,
      "outputs": [
        {
          "output_type": "stream",
          "text": [
            "(60000, 28, 28, 1)\n"
          ],
          "name": "stdout"
        }
      ]
    },
    {
      "cell_type": "code",
      "metadata": {
        "colab": {
          "base_uri": "https://localhost:8080/"
        },
        "id": "Knu61y2HhlkB",
        "outputId": "35d15a6f-5c4d-4aab-a541-e6af02e0c654"
      },
      "source": [
        "# number os classes\n",
        "K = len(set(y_train))\n",
        "print(\"Number os classes: \", K)"
      ],
      "execution_count": 5,
      "outputs": [
        {
          "output_type": "stream",
          "text": [
            "Number os classes:  10\n"
          ],
          "name": "stdout"
        }
      ]
    },
    {
      "cell_type": "code",
      "metadata": {
        "id": "RMDO1fOJhrQs"
      },
      "source": [
        "# Build the model using the functional API\n",
        "i = Input(shape=x_train[0].shape)\n",
        "x = Conv2D(32, (3, 3), strides=2, activation='relu')(i)\n",
        "x = Conv2D(64, (3, 3), strides=2, activation='relu')(x)\n",
        "x = Conv2D(128, (3, 3), strides=2, activation='relu')(x)\n",
        "x = Flatten()(x)\n",
        "x = Dropout(0.2)(x)\n",
        "x = Dense(512, activation='relu')(x)\n",
        "x = Dropout(0.2)(x)\n",
        "x = Dense(K, activation='softmax')(x)\n",
        "\n",
        "model = Model(i, x)"
      ],
      "execution_count": 6,
      "outputs": []
    },
    {
      "cell_type": "code",
      "metadata": {
        "colab": {
          "base_uri": "https://localhost:8080/"
        },
        "id": "Gljk3KnJilxw",
        "outputId": "f9d1e902-cfbc-4145-bd21-3e48e97cbdd8"
      },
      "source": [
        "# Compile and fit\n",
        "# Note: make sure you are using the GPU for this!\n",
        "model.compile(optimizer='adam',\n",
        "              loss='sparse_categorical_crossentropy',\n",
        "              metrics=['accuracy'])\n",
        "r = model.fit(x_train, y_train, validation_data=(x_test, y_test), epochs=15)"
      ],
      "execution_count": 7,
      "outputs": [
        {
          "output_type": "stream",
          "text": [
            "Epoch 1/15\n",
            "1875/1875 [==============================] - 21s 11ms/step - loss: 0.5257 - accuracy: 0.8034 - val_loss: 0.4148 - val_accuracy: 0.8455\n",
            "Epoch 2/15\n",
            "1875/1875 [==============================] - 20s 11ms/step - loss: 0.3641 - accuracy: 0.8633 - val_loss: 0.3456 - val_accuracy: 0.8716\n",
            "Epoch 3/15\n",
            "1875/1875 [==============================] - 20s 11ms/step - loss: 0.3140 - accuracy: 0.8817 - val_loss: 0.3153 - val_accuracy: 0.8857\n",
            "Epoch 4/15\n",
            "1875/1875 [==============================] - 20s 11ms/step - loss: 0.2791 - accuracy: 0.8939 - val_loss: 0.3067 - val_accuracy: 0.8904\n",
            "Epoch 5/15\n",
            "1875/1875 [==============================] - 20s 11ms/step - loss: 0.2537 - accuracy: 0.9036 - val_loss: 0.3012 - val_accuracy: 0.8929\n",
            "Epoch 6/15\n",
            "1875/1875 [==============================] - 20s 11ms/step - loss: 0.2325 - accuracy: 0.9127 - val_loss: 0.3022 - val_accuracy: 0.8967\n",
            "Epoch 7/15\n",
            "1875/1875 [==============================] - 20s 11ms/step - loss: 0.2117 - accuracy: 0.9194 - val_loss: 0.2931 - val_accuracy: 0.8979\n",
            "Epoch 8/15\n",
            "1875/1875 [==============================] - 20s 11ms/step - loss: 0.2000 - accuracy: 0.9250 - val_loss: 0.3035 - val_accuracy: 0.8974\n",
            "Epoch 9/15\n",
            "1875/1875 [==============================] - 20s 10ms/step - loss: 0.1829 - accuracy: 0.9311 - val_loss: 0.2975 - val_accuracy: 0.9003\n",
            "Epoch 10/15\n",
            "1875/1875 [==============================] - 20s 11ms/step - loss: 0.1706 - accuracy: 0.9352 - val_loss: 0.3089 - val_accuracy: 0.9017\n",
            "Epoch 11/15\n",
            "1875/1875 [==============================] - 20s 11ms/step - loss: 0.1612 - accuracy: 0.9380 - val_loss: 0.3113 - val_accuracy: 0.9008\n",
            "Epoch 12/15\n",
            "1875/1875 [==============================] - 20s 10ms/step - loss: 0.1514 - accuracy: 0.9418 - val_loss: 0.3148 - val_accuracy: 0.9019\n",
            "Epoch 13/15\n",
            "1875/1875 [==============================] - 20s 11ms/step - loss: 0.1406 - accuracy: 0.9468 - val_loss: 0.3377 - val_accuracy: 0.8975\n",
            "Epoch 14/15\n",
            "1875/1875 [==============================] - 20s 11ms/step - loss: 0.1344 - accuracy: 0.9488 - val_loss: 0.3464 - val_accuracy: 0.9001\n",
            "Epoch 15/15\n",
            "1875/1875 [==============================] - 20s 10ms/step - loss: 0.1270 - accuracy: 0.9519 - val_loss: 0.3743 - val_accuracy: 0.9016\n"
          ],
          "name": "stdout"
        }
      ]
    },
    {
      "cell_type": "code",
      "metadata": {
        "colab": {
          "base_uri": "https://localhost:8080/",
          "height": 282
        },
        "id": "uJAxkNAZkeZ_",
        "outputId": "cb2c7f39-70d0-4640-c6cc-0091b63850d1"
      },
      "source": [
        "# Plot loss per iteration\n",
        "import matplotlib.pyplot as plt\n",
        "plt.plot(r.history['loss'], label='loss')\n",
        "plt.plot(r.history['val_loss'], label='val_loss')\n",
        "plt.legend()"
      ],
      "execution_count": 8,
      "outputs": [
        {
          "output_type": "execute_result",
          "data": {
            "text/plain": [
              "<matplotlib.legend.Legend at 0x7fc3a28f5750>"
            ]
          },
          "metadata": {
            "tags": []
          },
          "execution_count": 8
        },
        {
          "output_type": "display_data",
          "data": {
            "image/png": "[encoded data removed]",
            "text/plain": [
              "<Figure size 432x288 with 1 Axes>"
            ]
          },
          "metadata": {
            "tags": [],
            "needs_background": "light"
          }
        }
      ]
    },
    {
      "cell_type": "code",
      "metadata": {
        "colab": {
          "base_uri": "https://localhost:8080/",
          "height": 282
        },
        "id": "jxAc-5Tvkr2K",
        "outputId": "03b41454-8985-4906-a705-fa40f65673d8"
      },
      "source": [
        "# Plot accuracy per iteration\n",
        "plt.plot(r.history['accuracy'], label='acc')\n",
        "plt.plot(r.history['val_accuracy'], label='val_acc')\n",
        "plt.legend()"
      ],
      "execution_count": 9,
      "outputs": [
        {
          "output_type": "execute_result",
          "data": {
            "text/plain": [
              "<matplotlib.legend.Legend at 0x7fc39e7d0dd0>"
            ]
          },
          "metadata": {
            "tags": []
          },
          "execution_count": 9
        },
        {
          "output_type": "display_data",
          "data": {
            "image/png": "[encoded data removed]",
            "text/plain": [
              "<Figure size 432x288 with 1 Axes>"
            ]
          },
          "metadata": {
            "tags": [],
            "needs_background": "light"
          }
        }
      ]
    },
    {
      "cell_type": "code",
      "metadata": {
        "colab": {
          "base_uri": "https://localhost:8080/",
          "height": 498
        },
        "id": "O20nlFT9k2-6",
        "outputId": "3c2dd4df-87c7-4ceb-e44c-02918add9833"
      },
      "source": [
        "# Plot confusion matrix\n",
        "from sklearn.metrics import confusion_matrix\n",
        "import numpy as np\n",
        "import itertools\n",
        "\n",
        "def plot_confusion_matrix(cm, classes,\n",
        "                          normalize=False,\n",
        "                          title='Confusion matrix',\n",
        "                          cmap=plt.cm.Blues):\n",
        "  \"\"\"\n",
        "  This function prints and plots the confusion matrix.\n",
        "  Normalization can be applied by setting `normalize=True`.\n",
        "  \"\"\"\n",
        "\n",
        "  if normalize:\n",
        "    cm = cm.astype('float') / cm.sum(axis=1)[:, np.newaxis]\n",
        "    print(\"Normalized confusion matrix\")\n",
        "  else:\n",
        "    print(\"Confusion matrix, without normalization\") \n",
        "  \n",
        "  print(cm)\n",
        "\n",
        "  plt.imshow(cm, interpolation='nearest', cmap=cmap)\n",
        "  plt.title(title)\n",
        "  plt.colorbar()\n",
        "  tick_marks = np.arange(len(classes))\n",
        "  plt.xticks(tick_marks, classes, rotation=45)\n",
        "  plt.yticks(tick_marks, classes)\n",
        "\n",
        "  fmt = '.2f' if normalize else 'd'\n",
        "  thresh = cm.max() / 2.\n",
        "  for i, j in itertools.product(range(cm.shape[0]), range(cm.shape[1])):\n",
        "    plt.text(j, i, format(cm[i, j], fmt),\n",
        "             horizontalalignment=\"center\",\n",
        "             color=\"white\" if cm[i, j] > thresh else \"black\")\n",
        "  \n",
        "  plt.tight_layout()\n",
        "  plt.ylabel(\"True label\")\n",
        "  plt.xlabel(\"Predicted label\")\n",
        "  plt.show()\n",
        "\n",
        "p_test = model.predict(x_test).argmax(axis=1)\n",
        "cm = confusion_matrix(y_test, p_test)\n",
        "plot_confusion_matrix(cm, list(range(10)))\n"
      ],
      "execution_count": 10,
      "outputs": [
        {
          "output_type": "stream",
          "text": [
            "Confusion matrix, without normalization\n",
            "[[837   3  30  31   3   0  89   0   7   0]\n",
            " [  1 978   2  15   1   0   1   0   2   0]\n",
            " [ 14   0 871   8  50   0  53   0   4   0]\n",
            " [  7   4  21 924  29   0  13   0   2   0]\n",
            " [  0   1  70  18 828   0  79   0   4   0]\n",
            " [  0   0   0   1   1 975   0  18   0   5]\n",
            " [100   1  71  33  87   0 697   0  11   0]\n",
            " [  0   0   0   0   0  18   0 952   0  30]\n",
            " [  1   1   2   4   3   2   5   2 978   2]\n",
            " [  1   0   0   0   0   5   0  18   0 976]]\n"
          ],
          "name": "stdout"
        },
        {
          "output_type": "display_data",
          "data": {
            "image/png": "[encoded data removed]",
            "text/plain": [
              "<Figure size 432x288 with 2 Axes>"
            ]
          },
          "metadata": {
            "tags": [],
            "needs_background": "light"
          }
        }
      ]
    },
    {
      "cell_type": "code",
      "metadata": {
        "id": "Mbghg4scl7nf"
      },
      "source": [
        "# Label mapping\n",
        "labels = '''T-shirt/top\n",
        "Trouser\n",
        "Pullover\n",
        "Dress\n",
        "Coat\n",
        "Sandal\n",
        "Shirt\n",
        "Sneaker\n",
        "Bag\n",
        "Ankle boot'''.split()"
      ],
      "execution_count": 11,
      "outputs": []
    },
    {
      "cell_type": "code",
      "metadata": {
        "colab": {
          "base_uri": "https://localhost:8080/",
          "height": 298
        },
        "id": "uSnR82XamLvx",
        "outputId": "91167937-379d-4ba1-9de1-517d78ea45f6"
      },
      "source": [
        "# Show some misclassified examples\n",
        "misclassified_idx = np.where(p_test != y_test)[0]\n",
        "i = np.random.choice(misclassified_idx)\n",
        "plt.imshow(x_test[i].reshape(28, 28), cmap='gray')\n",
        "plt.title(\"True label: %s Predicted: %s\" % (labels[y_test[i]], labels[p_test[i]]))"
      ],
      "execution_count": 17,
      "outputs": [
        {
          "output_type": "execute_result",
          "data": {
            "text/plain": [
              "Text(0.5, 1.0, 'True label: Shirt Predicted: T-shirt/top')"
            ]
          },
          "metadata": {
            "tags": []
          },
          "execution_count": 17
        },
        {
          "output_type": "display_data",
          "data": {
            "image/png": "[encoded data removed]",
            "text/plain": [
              "<Figure size 432x288 with 1 Axes>"
            ]
          },
          "metadata": {
            "tags": [],
            "needs_background": "light"
          }
        }
      ]
    },
    {
      "cell_type": "code",
      "metadata": {
        "id": "2SBlfk46me2v"
      },
      "source": [
        ""
      ],
      "execution_count": null,
      "outputs": []
    }
  ]
}